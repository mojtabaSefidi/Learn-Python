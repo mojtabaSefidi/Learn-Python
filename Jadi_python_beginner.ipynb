{
  "nbformat": 4,
  "nbformat_minor": 0,
  "metadata": {
    "colab": {
      "provenance": [],
      "collapsed_sections": [],
      "include_colab_link": true
    },
    "kernelspec": {
      "name": "python3",
      "display_name": "Python 3"
    },
    "language_info": {
      "name": "python"
    },
    "gpuClass": "standard"
  },
  "cells": [
    {
      "cell_type": "markdown",
      "metadata": {
        "id": "view-in-github",
        "colab_type": "text"
      },
      "source": [
        "<a href=\"https://colab.research.google.com/github/mojtabaSefidi/Learn-Python-Jadi/blob/main/Jadi_python_beginner.ipynb\" target=\"_parent\"><img src=\"https://colab.research.google.com/assets/colab-badge.svg\" alt=\"Open In Colab\"/></a>"
      ]
    },
    {
      "cell_type": "markdown",
      "source": [
        "## Season 1"
      ],
      "metadata": {
        "id": "xlgL62fRF0_Q"
      }
    },
    {
      "cell_type": "code",
      "execution_count": null,
      "metadata": {
        "colab": {
          "base_uri": "https://localhost:8080/"
        },
        "id": "J0rBprQW_-Kw",
        "outputId": "11afa131-9301-468f-9b48-221115d30b9d"
      },
      "outputs": [
        {
          "output_type": "stream",
          "name": "stdout",
          "text": [
            "Hello World!\n"
          ]
        }
      ],
      "source": [
        "print('Hello World!')"
      ]
    },
    {
      "cell_type": "code",
      "source": [
        "print(int(input())*int(input()))"
      ],
      "metadata": {
        "colab": {
          "base_uri": "https://localhost:8080/"
        },
        "id": "uxZAhFAHAbav",
        "outputId": "5d150ac9-f709-404a-991f-bb479dad941b"
      },
      "execution_count": null,
      "outputs": [
        {
          "output_type": "stream",
          "name": "stdout",
          "text": [
            "5\n",
            "7\n",
            "35\n"
          ]
        }
      ]
    },
    {
      "cell_type": "code",
      "source": [
        "x = input()\n",
        "if len(x)==3:\n",
        "  print(int(x[::-1])*2)"
      ],
      "metadata": {
        "colab": {
          "base_uri": "https://localhost:8080/"
        },
        "id": "MD0Pe4jOAuCM",
        "outputId": "499d6050-0ece-44e7-b6c9-43517268ab80"
      },
      "execution_count": null,
      "outputs": [
        {
          "output_type": "stream",
          "name": "stdout",
          "text": [
            "765\n",
            "1134\n"
          ]
        }
      ]
    },
    {
      "cell_type": "code",
      "source": [
        "print((int(input())//10 + 1) * 10)"
      ],
      "metadata": {
        "colab": {
          "base_uri": "https://localhost:8080/"
        },
        "id": "98Q2YCVZCpDy",
        "outputId": "06574acb-21f9-40de-a97a-754da00b5e67"
      },
      "execution_count": null,
      "outputs": [
        {
          "output_type": "stream",
          "name": "stdout",
          "text": [
            "40\n",
            "50\n"
          ]
        }
      ]
    },
    {
      "cell_type": "code",
      "source": [
        "a = int(input())\n",
        "b = int(input())\n",
        "if a >= b:\n",
        "  print(a)\n",
        "if a < b:\n",
        "  print(b)"
      ],
      "metadata": {
        "colab": {
          "base_uri": "https://localhost:8080/"
        },
        "id": "wwHjsiwEELRO",
        "outputId": "f0424542-ba51-4e09-a776-c56015520f1d"
      },
      "execution_count": null,
      "outputs": [
        {
          "output_type": "stream",
          "name": "stdout",
          "text": [
            "17\n",
            "13\n",
            "17\n"
          ]
        }
      ]
    },
    {
      "cell_type": "code",
      "source": [
        "age = int(input())\n",
        "if age > 0 and age < 6:\n",
        "  print('khordsal')\n",
        "elif age >= 6 and age < 10:\n",
        "  print('koodak')\n",
        "elif age >= 10 and age < 14:\n",
        "  print('nojavan')\n",
        "elif age >= 14 and age < 24:\n",
        "  print('javan')\n",
        "elif age >= 24 and age < 40:\n",
        "  print('bozorgsal')\n",
        "else:\n",
        "  print('miansal')"
      ],
      "metadata": {
        "colab": {
          "base_uri": "https://localhost:8080/"
        },
        "id": "UszZyzrYElm0",
        "outputId": "42318426-7c52-424c-bcb0-3f7fc5916e92"
      },
      "execution_count": null,
      "outputs": [
        {
          "output_type": "stream",
          "name": "stdout",
          "text": [
            "40\n",
            "miansal\n"
          ]
        }
      ]
    },
    {
      "cell_type": "markdown",
      "source": [
        "## Season 2"
      ],
      "metadata": {
        "id": "Nvh9ubgcz-VL"
      }
    },
    {
      "cell_type": "code",
      "source": [
        "import random\n",
        "\n",
        "a, b, response = 1, 99, ''\n",
        "while response != 'd':\n",
        "  guess = random.randint(a, b)\n",
        "  print('guess is', guess)\n",
        "  response = input()\n",
        "  if response == 'k':\n",
        "    b = guess - 1\n",
        "  elif response == 'b':\n",
        "    a = guess + 1\n",
        "  "
      ],
      "metadata": {
        "colab": {
          "base_uri": "https://localhost:8080/"
        },
        "id": "dIsGroMH0Bg6",
        "outputId": "11f1fb07-8ed9-4284-b88b-4892e989033a"
      },
      "execution_count": null,
      "outputs": [
        {
          "name": "stdout",
          "output_type": "stream",
          "text": [
            "guess is  53\n",
            "k\n",
            "guess is  4\n",
            "b\n",
            "guess is  36\n",
            "k\n",
            "guess is  19\n",
            "b\n",
            "guess is  22\n",
            "b\n",
            "guess is  29\n",
            "b\n",
            "guess is  32\n",
            "d\n"
          ]
        }
      ]
    },
    {
      "cell_type": "code",
      "source": [
        "n = int(input())\n",
        "if (all([False for i in range(2,n) if n % i == 0 ]) and not n < 2):\n",
        "  print('prime')\n",
        "else:\n",
        "  print('not prime')"
      ],
      "metadata": {
        "id": "RegGPExt_GjF"
      },
      "execution_count": null,
      "outputs": []
    },
    {
      "cell_type": "code",
      "source": [
        "win, draw, lose, points = 0, 0, 0, 0\n",
        "for i in range(0, 30):\n",
        "  result = int(input())\n",
        "  points += result\n",
        "  if result == 3:\n",
        "    win += 1\n",
        "  elif result == 1:\n",
        "    draw += 1\n",
        "  else:\n",
        "    lose += 1\n",
        "print(points, win)\n",
        "  "
      ],
      "metadata": {
        "colab": {
          "base_uri": "https://localhost:8080/"
        },
        "id": "PXPyCfc61HOo",
        "outputId": "95344436-98b5-4004-d3ed-65e2b633e6bd"
      },
      "execution_count": null,
      "outputs": [
        {
          "output_type": "stream",
          "name": "stdout",
          "text": [
            "3\n",
            "3\n",
            "1\n",
            "0\n",
            "3\n",
            "10 3\n"
          ]
        }
      ]
    },
    {
      "cell_type": "code",
      "source": [
        "max, age = 10, 0\n",
        "while age != -1:\n",
        "  age = int(input())\n",
        "  if age > max:\n",
        "    max = age\n",
        "print(max)"
      ],
      "metadata": {
        "id": "IcDjjmDA72J5"
      },
      "execution_count": null,
      "outputs": []
    },
    {
      "cell_type": "code",
      "source": [
        "max_1,max_2, age = 10, 10, 0\n",
        "while age != -1:\n",
        "  age = int(input())\n",
        "  if age > max_1:\n",
        "    max_2 = max_1\n",
        "    max_1 = age\n",
        "  elif age > max_2:\n",
        "    max_2 = age\n",
        "print(max_1, max_2)"
      ],
      "metadata": {
        "colab": {
          "base_uri": "https://localhost:8080/"
        },
        "id": "QIdhCgsCAgYJ",
        "outputId": "e8838ec6-2452-46c7-c142-5606c4cdc8ad"
      },
      "execution_count": null,
      "outputs": [
        {
          "output_type": "stream",
          "name": "stdout",
          "text": [
            "17\n",
            "15\n",
            "39\n",
            "51\n",
            "14\n",
            "32\n",
            "28\n",
            "-1\n",
            "51 39\n"
          ]
        }
      ]
    },
    {
      "cell_type": "code",
      "source": [
        "def number_of_divisors(n):\n",
        "  return len([i for i in range(1,n+1) if not n % i])\n",
        "\n",
        "max, divisor = 0, 0\n",
        "for i in range(20):\n",
        "  n = int(input())\n",
        "  number = number_of_divisors(n)\n",
        "  if  number > divisor:\n",
        "    max = n\n",
        "    divisor = number\n",
        "  elif number == divisor:\n",
        "    if n>max:\n",
        "      max = n\n",
        "      divisor = number\n",
        "print(max,divisor)"
      ],
      "metadata": {
        "colab": {
          "base_uri": "https://localhost:8080/"
        },
        "id": "PUVsI9QSPTZT",
        "outputId": "3d28ddbb-e5f9-4cd6-836a-7e18b5795a15"
      },
      "execution_count": 95,
      "outputs": [
        {
          "output_type": "stream",
          "name": "stdout",
          "text": [
            "570\n",
            "594\n",
            "594 16\n"
          ]
        }
      ]
    },
    {
      "cell_type": "markdown",
      "source": [
        "## Season 3"
      ],
      "metadata": {
        "id": "7tLwuBbVTTNI"
      }
    },
    {
      "cell_type": "code",
      "source": [
        "import re\n",
        "removed_text = re.sub('[aeiou]', '', input(), flags=re.I).lower()\n",
        "output = ''\n",
        "for element in removed_text:\n",
        "  output = output + '.' + element\n",
        "print(output)"
      ],
      "metadata": {
        "id": "BqtRLYNGTdQO",
        "colab": {
          "base_uri": "https://localhost:8080/"
        },
        "outputId": "6c173ddb-670e-4ff7-93a3-5c897a63783b"
      },
      "execution_count": null,
      "outputs": [
        {
          "output_type": "stream",
          "name": "stdout",
          "text": [
            "aBAcAba\n",
            ".b.c.b\n"
          ]
        }
      ]
    },
    {
      "cell_type": "code",
      "source": [
        "numbers = input().split('+')\n",
        "# numbers = [int(x) for x in numbers]\n",
        "numbers = sorted(numbers, reverse=False)\n",
        "print(\"+\".join(numbers))"
      ],
      "metadata": {
        "colab": {
          "base_uri": "https://localhost:8080/"
        },
        "id": "pgoA0vrepu4S",
        "outputId": "08924fd0-ffa0-4a92-d572-9456259b7109"
      },
      "execution_count": null,
      "outputs": [
        {
          "output_type": "stream",
          "name": "stdout",
          "text": [
            "1+1+3+1+3\n",
            "1+1+1+3+3\n"
          ]
        }
      ]
    },
    {
      "cell_type": "code",
      "source": [
        "output = []\n",
        "for i in range(10):\n",
        "  output.append(input().title())\n",
        "for name in output:\n",
        "  print(name)"
      ],
      "metadata": {
        "id": "g_I9lHbssOcl"
      },
      "execution_count": null,
      "outputs": []
    },
    {
      "cell_type": "code",
      "source": [
        "# fullstring = input()\n",
        "substring = \"hello\"\n",
        "s = ''\n",
        "i = 0\n",
        "for e in input():\n",
        "  if e==substring[i]:\n",
        "    s+=e\n",
        "    i+=1\n",
        "  if i==len(substring):\n",
        "    break\n",
        "if s==substring:\n",
        "  print('YES')\n",
        "else:\n",
        "  print('NO')\n"
      ],
      "metadata": {
        "colab": {
          "base_uri": "https://localhost:8080/"
        },
        "id": "X_fE0Memkksv",
        "outputId": "939be109-93cc-4a2a-9a28-4f1b16bdbd03"
      },
      "execution_count": 92,
      "outputs": [
        {
          "output_type": "stream",
          "name": "stdout",
          "text": [
            "hlelo\n",
            "NO\n"
          ]
        }
      ]
    },
    {
      "cell_type": "code",
      "source": [
        "text = input()\n",
        "lower_count = sum(1 for c in text if c.islower())\n",
        "if 2 * lower_count >= len(text):\n",
        "  print(text.lower())\n",
        "else:\n",
        "  print(text.upper())"
      ],
      "metadata": {
        "colab": {
          "base_uri": "https://localhost:8080/"
        },
        "id": "RkRNs5AcvcPK",
        "outputId": "ec6041f2-4d13-4370-9d06-1eeafd016cca"
      },
      "execution_count": null,
      "outputs": [
        {
          "output_type": "stream",
          "name": "stdout",
          "text": [
            "hasTAM\n",
            "hastam\n"
          ]
        }
      ]
    },
    {
      "cell_type": "code",
      "source": [
        "text = input().lower()\n",
        "if text == text[::-1]:\n",
        "  print('palindrome')\n",
        "else:\n",
        "  print('not palindrome')"
      ],
      "metadata": {
        "colab": {
          "base_uri": "https://localhost:8080/"
        },
        "id": "DGQ_mw3qxWhG",
        "outputId": "ae9a6826-c337-4d09-fa8c-f5e7f074d081"
      },
      "execution_count": 68,
      "outputs": [
        {
          "output_type": "stream",
          "name": "stdout",
          "text": [
            "JeopAuJyBmYadRgRDayMbyJuApoEj\n",
            "palindrome\n"
          ]
        }
      ]
    },
    {
      "cell_type": "code",
      "source": [
        "text = input().strip()\n",
        "if text =='BABAB':\n",
        "  print('YES')\n",
        "else:  \n",
        "  length = len(text)\n",
        "  text = text.replace('AB',' ',1)\n",
        "  text = text.replace('BA',' ',1)\n",
        "  if len(text) == length - 2:\n",
        "    print('YES')\n",
        "  else :\n",
        "    print('NO')"
      ],
      "metadata": {
        "colab": {
          "base_uri": "https://localhost:8080/"
        },
        "id": "m-zIeTdDifXa",
        "outputId": "ac77fd31-6bb5-43d5-896e-a0456e7cc7ec"
      },
      "execution_count": 96,
      "outputs": [
        {
          "output_type": "stream",
          "name": "stdout",
          "text": [
            "BABAB\n",
            "YES\n"
          ]
        }
      ]
    },
    {
      "cell_type": "code",
      "source": [
        "from math import floor\n",
        "points = sorted([float(x) for x in input().split()])\n",
        "distance = abs(points[1]-points[0]) + abs(points[-1]-points[1])\n",
        "if floor(distance)==distance:\n",
        "    print(int(distance))\n",
        "else:\n",
        "    print(distance)"
      ],
      "metadata": {
        "id": "R7Ku16PVifPs"
      },
      "execution_count": null,
      "outputs": []
    },
    {
      "cell_type": "code",
      "source": [
        "number = input()\n",
        "apprience = [int(x) for x in input().split()]\n",
        "apprience = [x for x in apprience if x <= 2]\n",
        "print(len(apprience) // 3)"
      ],
      "metadata": {
        "colab": {
          "base_uri": "https://localhost:8080/"
        },
        "id": "e0y3P6bVogKo",
        "outputId": "8b985b54-9545-4224-f047-b6f0f6c6e894"
      },
      "execution_count": null,
      "outputs": [
        {
          "output_type": "stream",
          "name": "stdout",
          "text": [
            "6\n",
            "5 0 4 2 1 0\n",
            "1\n"
          ]
        }
      ]
    },
    {
      "cell_type": "code",
      "source": [
        "laptops = []\n",
        "for i in range(int(input())):\n",
        "  laptops.append([int(x) for x in input().split()])\n",
        "\n",
        "if (sorted(laptops,key=lambda x: x[0]) == sorted(laptops,key=lambda x: x[-1])):\n",
        "  print('poor irsa')\n",
        "else : \n",
        "  print('happy irsa')"
      ],
      "metadata": {
        "id": "HjbZ3-C_pZ-P",
        "colab": {
          "base_uri": "https://localhost:8080/"
        },
        "outputId": "64ca59b2-b63c-4313-c850-4fb8553764e8"
      },
      "execution_count": null,
      "outputs": [
        {
          "output_type": "stream",
          "name": "stdout",
          "text": [
            "2\n",
            "1 10\n",
            "7 3\n",
            "happy irsa\n"
          ]
        }
      ]
    },
    {
      "cell_type": "code",
      "source": [
        "from collections import OrderedDict\n",
        "\n",
        "d = {}\n",
        "for i in range(int(input())):\n",
        "  vote = input()\n",
        "  d[vote] = d.get(vote,0) + 1\n",
        "d = OrderedDict(sorted(d.items(), key=lambda t: t[0]))\n",
        "for e in [*d.items()]:\n",
        "  print(e[0],e[-1])\n"
      ],
      "metadata": {
        "colab": {
          "base_uri": "https://localhost:8080/"
        },
        "id": "RB-VaqAgVhy0",
        "outputId": "ca6fb104-8f6b-4798-dfc8-4611034a7fea"
      },
      "execution_count": null,
      "outputs": [
        {
          "output_type": "stream",
          "name": "stdout",
          "text": [
            "5\n",
            "sara\n",
            "alo\n",
            "sara\n",
            "hamid\n",
            "sara\n",
            "alo 1\n",
            "hamid 1\n",
            "sara 3\n"
          ]
        }
      ]
    },
    {
      "cell_type": "code",
      "source": [
        "from collections import OrderedDict\n",
        "d = {}\n",
        "for i in range(int(input())):\n",
        "  x = input().split()\n",
        "  d[x[0]] = x[-1]\n",
        "\n",
        "sentence = input().split()\n",
        "result = ''\n",
        "for word in sentence:\n",
        "  result += d.get(word,word) + ' '\n",
        "print(result.strip())"
      ],
      "metadata": {
        "colab": {
          "base_uri": "https://localhost:8080/"
        },
        "id": "SZJclrudZGCa",
        "outputId": "3be943cc-e6bc-4ce4-e986-2e63041dc2e6"
      },
      "execution_count": null,
      "outputs": [
        {
          "output_type": "stream",
          "name": "stdout",
          "text": [
            "5\n",
            "you shoma\n",
            "we ma\n",
            "say goftan\n",
            "goodbye khodafez\n",
            "hello salam\n",
            "we say goodbye to you tonight\n",
            "ma goftan khodafez to shoma tonight\n"
          ]
        }
      ]
    },
    {
      "cell_type": "markdown",
      "source": [
        "## Season 4\n"
      ],
      "metadata": {
        "id": "FHwYhsJWctu-"
      }
    },
    {
      "cell_type": "code",
      "source": [
        "import decimal\n",
        "\n",
        "def display(x):\n",
        "    digits = 4\n",
        "    temp = str(decimal.Decimal(str(x) + '0' * digits))\n",
        "    temp[:temp.find('.') + digits + 1]\n",
        "\n",
        "display(sqrt(19))"
      ],
      "metadata": {
        "colab": {
          "base_uri": "https://localhost:8080/",
          "height": 35
        },
        "id": "0oov5sJfpRw9",
        "outputId": "ae199ee6-77c1-4f55-9ba9-fcefc60abdeb"
      },
      "execution_count": 103,
      "outputs": [
        {
          "output_type": "execute_result",
          "data": {
            "text/plain": [
              "'4.3588'"
            ],
            "application/vnd.google.colaboratory.intrinsic+json": {
              "type": "string"
            }
          },
          "metadata": {},
          "execution_count": 103
        }
      ]
    },
    {
      "cell_type": "code",
      "source": [
        "from math import sqrt\n",
        "import decimal\n",
        "\n",
        "root_number = []\n",
        "for i in range(int(input())):\n",
        "  root_number.append(sqrt(float(input())))\n",
        "for number in root_number:\n",
        "    temp = str(decimal.Decimal(str(number) + '0' * 4))\n",
        "    x = temp[:temp.find('.') + 5]\n",
        "    print(x)"
      ],
      "metadata": {
        "colab": {
          "base_uri": "https://localhost:8080/"
        },
        "id": "Hf_0DpBsdotS",
        "outputId": "df91a6bc-f2c6-4286-b11f-2c55470e17bb"
      },
      "execution_count": 104,
      "outputs": [
        {
          "output_type": "stream",
          "name": "stdout",
          "text": [
            "1\n",
            "19\n",
            "4.3588\n"
          ]
        }
      ]
    },
    {
      "cell_type": "markdown",
      "source": [
        "## Season 5"
      ],
      "metadata": {
        "id": "x2wGoTwSeWly"
      }
    },
    {
      "cell_type": "code",
      "source": [
        "import csv\n",
        "from statistics import mean \n",
        "\n",
        "def calculate_averages(input_file_name, output_file_name):\n",
        "  names = []\n",
        "  grades = []\n",
        "  avg = []\n",
        "  \n",
        "  with open(input_file_name) as f :\n",
        "    reader = csv.reader(f)\n",
        "    for row in reader:\n",
        "      names.append(row[0])\n",
        "      grades.append(row[1:])\n",
        "  \n",
        "  grades = [map(float,i) for i in grades]\n",
        "  for grade in grades:\n",
        "    avg.append(mean(grade))\n",
        " \n",
        "  with open(output_file_name, 'w') as f :\n",
        "    for i in range(len(names)):\n",
        "      writer = csv.writer(f)\n",
        "      sentence = [names[i], avg[i]]\n",
        "      writer.writerow(sentence)\n",
        "  return\n",
        "\n",
        "def calculate_sorted_averages(input_file_name, output_file_name):\n",
        "  names = []\n",
        "  grades = []\n",
        "  avg = []\n",
        "  \n",
        "  with open(input_file_name) as f :\n",
        "    reader = csv.reader(f)\n",
        "    for row in reader:\n",
        "      names.append(row[0])\n",
        "      grades.append(row[1:])\n",
        "  \n",
        "  grades = [map(float,i) for i in grades]\n",
        "  k = 0\n",
        "  for grade in grades:\n",
        "    avg.append((names[k],mean(grade)))\n",
        "    k += 1\n",
        "  avg = sorted(avg, key = lambda x: (-x[1],x[0]),reverse=True)\n",
        "  \n",
        "  with open(output_file_name, 'w') as f :\n",
        "    for tup in avg:\n",
        "      writer = csv.writer(f)\n",
        "      sentence = [tup[0], tup[-1]]\n",
        "      writer.writerow(sentence)\n",
        "  return\n",
        "\n",
        "\n",
        "def calculate_three_best(input_file_name, output_file_name):\n",
        "  names = []\n",
        "  grades = []\n",
        "  avg = []\n",
        "  \n",
        "  with open(input_file_name) as f :\n",
        "    reader = csv.reader(f)\n",
        "    for row in reader:\n",
        "      names.append(row[0])\n",
        "      grades.append(row[1:])\n",
        "  \n",
        "  grades = [map(float,i) for i in grades]\n",
        "  k = 0\n",
        "  for grade in grades:\n",
        "    avg.append((names[k],mean(grade)))\n",
        "    k += 1\n",
        "  avg = sorted(avg, key = lambda x: (x[1],x[0]),reverse=True)\n",
        "  \n",
        "  with open(output_file_name, 'w') as f :\n",
        "    for i in range(0,3):\n",
        "      writer = csv.writer(f)\n",
        "      sentence = [avg[i][0], avg[i][-1]]\n",
        "      writer.writerow(sentence)\n",
        "  return   \n",
        "\n",
        "\n",
        "def calculate_three_worst(input_file_name, output_file_name):\n",
        "  names = []\n",
        "  grades = []\n",
        "  avg = []\n",
        "  \n",
        "  with open(input_file_name) as f :\n",
        "    reader = csv.reader(f)\n",
        "    for row in reader:\n",
        "      names.append(row[0])\n",
        "      grades.append(row[1:])\n",
        "  \n",
        "  grades = [map(float,i) for i in grades]\n",
        "  k = 0\n",
        "  for grade in grades:\n",
        "    avg.append((names[k],mean(grade)))\n",
        "    k += 1\n",
        "  avg = sorted(avg, key = lambda x: (x[1],x[0]))\n",
        "  \n",
        "  with open(output_file_name, 'w') as f :\n",
        "    for i in range(3):\n",
        "      writer = csv.writer(f)\n",
        "      data = [avg[i][-1]]\n",
        "      writer.writerow(data)\n",
        "  return       \n",
        "\n",
        "def calculate_average_of_averages(input_file_name, output_file_name):\n",
        "  names = []\n",
        "  grades = []\n",
        "  avg = []\n",
        "  \n",
        "  with open(input_file_name) as f :\n",
        "    reader = csv.reader(f)\n",
        "    for row in reader:\n",
        "      names.append(row[0])\n",
        "      grades.append(row[1:])\n",
        "  \n",
        "  grades = [map(float,i) for i in grades]\n",
        "  k = 0\n",
        "  for grade in grades:\n",
        "    avg.append((names[k],mean(grade)))\n",
        "    k += 1\n",
        "  avg = sorted(avg, key = lambda x: (x[1],x[0]))\n",
        "  sum = 0\n",
        "  for grade in avg:\n",
        "    sum += grade[-1]\n",
        "  with open(output_file_name, 'w') as f :\n",
        "      writer = csv.writer(f)\n",
        "      data = [sum/len(avg)]\n",
        "      writer.writerow(data)\n",
        "  return   \n",
        "  "
      ],
      "metadata": {
        "id": "2-Eo94_u5nzS"
      },
      "execution_count": 108,
      "outputs": []
    },
    {
      "cell_type": "code",
      "source": [
        "calculate_three_best('a.csv', 'b.csv')"
      ],
      "metadata": {
        "id": "xbAgHAtiqs1y"
      },
      "execution_count": 111,
      "outputs": []
    },
    {
      "cell_type": "markdown",
      "source": [
        "## Final Project"
      ],
      "metadata": {
        "id": "7hI8dN5rTOO6"
      }
    },
    {
      "cell_type": "code",
      "source": [
        "import hashlib\n",
        "import csv\n",
        "\n",
        "def hash_password_hack(input_file_name, output_file_name):\n",
        "  hash_dict = {}\n",
        "  name_hash = []\n",
        "  result = []\n",
        "  for i in range(1000,10000):\n",
        "    hash_dict[hashlib.sha256(str(i).encode('utf-8')).hexdigest()] = i\n",
        "  \n",
        "  with open(input_file_name) as f :\n",
        "    reader = csv.reader(f)\n",
        "    for row in reader:\n",
        "      name_hash.append((row[0],row[1:]))\n",
        "  \n",
        "  with open(output_file_name, 'w') as f : \n",
        "    for tup in name_hash:\n",
        "      writer = csv.writer(f)\n",
        "      data = [tup[0],hash_dict[tup[-1][0]]]\n",
        "      writer.writerow(data)\n",
        "  return\n"
      ],
      "metadata": {
        "id": "bJHUSXUo7No0"
      },
      "execution_count": 24,
      "outputs": []
    }
  ]
}