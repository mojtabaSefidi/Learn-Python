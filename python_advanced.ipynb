{
 "cells": [
  {
   "cell_type": "markdown",
   "metadata": {},
   "source": [
    "### Exceptions"
   ]
  },
  {
   "cell_type": "markdown",
   "metadata": {},
   "source": [
    "##### Custom Exception"
   ]
  },
  {
   "cell_type": "code",
   "execution_count": 8,
   "metadata": {},
   "outputs": [
    {
     "name": "stdout",
     "output_type": "stream",
     "text": [
      "HardwareError('Laptop is too hot')\n",
      "Laptop is too hot\n",
      "101\n"
     ]
    }
   ],
   "source": [
    "from typing import Any\n",
    "import pickle\n",
    "\n",
    "class HardwareError(Exception):\n",
    "  def __init__(self, message: str, value: Any) -> None:\n",
    "    super().__init__(message)\n",
    "    self.message = message\n",
    "    self.value = value\n",
    "\n",
    "  def __str__(self) -> str:\n",
    "    return f'{self.message} (Value: {self.value})'\n",
    "\n",
    "  def __reduce__(self) -> tuple[Any, tuple[str, Any]]:\n",
    "    return self.__class__, (self.message, self.value)\n",
    "     \n",
    "\n",
    "\n",
    "\n",
    "# overheat_exception: HardwareError = HardwareError(message='Your Computer is overheated', value=137)\n",
    "# print(overheat_exception)\n",
    "# print(overheat_exception.message)\n",
    "# print(overheat_exception.value)\n",
    "# print(repr(overheat_exception))\n",
    "\n",
    "\n",
    "# try:\n",
    "#   raise HardwareError(message='Laptop is too hot', value=101)\n",
    "# except HardwareError as error:\n",
    "#   print(error)\n",
    "#   print(error.message)\n",
    "#   print(error.value)\n",
    "\n",
    "OE: HardwareError = HardwareError(message='Laptop is too hot', value=101)\n",
    "pickled: bytes = pickle.dumps(OE)\n",
    "unpickled: HardwareError = pickle.loads(pickled)\n",
    "\n",
    "print(repr(unpickled))\n",
    "print(unpickled.message)\n",
    "print(unpickled.value)\n",
    "\n",
    "\n"
   ]
  },
  {
   "cell_type": "markdown",
   "metadata": {},
   "source": [
    "##### Object Oriented Programming "
   ]
  },
  {
   "cell_type": "code",
   "execution_count": 20,
   "metadata": {},
   "outputs": [
    {
     "name": "stdout",
     "output_type": "stream",
     "text": [
      "Microwave (Smeg) is now turned on.\n",
      "Microwave (Smeg) is already turned on.\n",
      "Running Smeg Microwave for 30 seconds...\n",
      "Microwave (Smeg) is now turned off.\n",
      "Microwave (Smeg) is already turned off.\n",
      "You should turn on the microwave first...\n",
      "Smeg (Rating: B)\n"
     ]
    },
    {
     "data": {
      "text/plain": [
       "Microwave(brand=\"Smeg\", power_rating=\"B)"
      ]
     },
     "execution_count": 20,
     "metadata": {},
     "output_type": "execute_result"
    }
   ],
   "source": [
    "class Microwave:\n",
    "  def __init__(self, brand: str, power_rating: str) -> None:\n",
    "    self.brand = brand\n",
    "    self.power_rating = power_rating \n",
    "    self.turned_on: bool = False\n",
    "\n",
    "  def turn_on(self) -> None:\n",
    "    if self.turned_on:\n",
    "      print(f'Microwave ({self.brand}) is already turned on.')\n",
    "    else:\n",
    "      self.turned_on = True\n",
    "      print(f'Microwave ({self.brand}) is now turned on.')\n",
    "\n",
    "\n",
    "  def turn_off(self) -> None:\n",
    "    if self.turned_on:\n",
    "      self.turned_on = False\n",
    "      print(f'Microwave ({self.brand}) is now turned off.')\n",
    "    else:\n",
    "      print(f'Microwave ({self.brand}) is already turned off.')\n",
    "\n",
    "  def run(self, seconds: int) -> None:\n",
    "    if self.turned_on:\n",
    "      print(f'Running {self.brand} Microwave for {seconds} seconds...')\n",
    "    else:\n",
    "      print('You should turn on the microwave first...')\n",
    "\n",
    "  # @overrided\n",
    "  def __str__(self) -> str:\n",
    "    return f'{self.brand} (Rating: {self.power_rating})'\n",
    "\n",
    "  def __repr__(self) -> str:\n",
    "    return f'Microwave(brand=\"{self.brand}\", power_rating=\"{self. power_rating})'\n",
    "\n",
    "smeg: Microwave = Microwave(brand='Smeg', power_rating='B')\n",
    "# print(smeg) \n",
    "# print(smeg.brand) \n",
    "# print(smeg.power_rating)\n",
    "smeg.turn_on()\n",
    "smeg.turn_on()\n",
    "smeg.run(30)\n",
    "smeg.turn_off()\n",
    "smeg.turn_off()\n",
    "smeg.run(30)\n",
    "\n",
    "print(smeg)\n",
    "smeg\n",
    "\n"
   ]
  }
 ],
 "metadata": {
  "kernelspec": {
   "display_name": "tensorflow",
   "language": "python",
   "name": "python3"
  },
  "language_info": {
   "codemirror_mode": {
    "name": "ipython",
    "version": 3
   },
   "file_extension": ".py",
   "mimetype": "text/x-python",
   "name": "python",
   "nbconvert_exporter": "python",
   "pygments_lexer": "ipython3",
   "version": "3.10.10"
  }
 },
 "nbformat": 4,
 "nbformat_minor": 2
}
