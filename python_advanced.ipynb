{
 "cells": [
  {
   "cell_type": "markdown",
   "metadata": {},
   "source": [
    "### Exceptions"
   ]
  },
  {
   "cell_type": "markdown",
   "metadata": {},
   "source": [
    "##### Custom Exception"
   ]
  },
  {
   "cell_type": "code",
   "execution_count": 8,
   "metadata": {},
   "outputs": [
    {
     "name": "stdout",
     "output_type": "stream",
     "text": [
      "HardwareError('Laptop is too hot')\n",
      "Laptop is too hot\n",
      "101\n"
     ]
    }
   ],
   "source": [
    "from typing import Any\n",
    "import pickle\n",
    "\n",
    "class HardwareError(Exception):\n",
    "  def __init__(self, message: str, value: Any) -> None:\n",
    "    super().__init__(message)\n",
    "    self.message = message\n",
    "    self.value = value\n",
    "\n",
    "  def __str__(self) -> str:\n",
    "    return f'{self.message} (Value: {self.value})'\n",
    "\n",
    "  def __reduce__(self) -> tuple[Any, tuple[str, Any]]:\n",
    "    return self.__class__, (self.message, self.value)\n",
    "     \n",
    "\n",
    "\n",
    "\n",
    "# overheat_exception: HardwareError = HardwareError(message='Your Computer is overheated', value=137)\n",
    "# print(overheat_exception)\n",
    "# print(overheat_exception.message)\n",
    "# print(overheat_exception.value)\n",
    "# print(repr(overheat_exception))\n",
    "\n",
    "\n",
    "# try:\n",
    "#   raise HardwareError(message='Laptop is too hot', value=101)\n",
    "# except HardwareError as error:\n",
    "#   print(error)\n",
    "#   print(error.message)\n",
    "#   print(error.value)\n",
    "\n",
    "OE: HardwareError = HardwareError(message='Laptop is too hot', value=101)\n",
    "pickled: bytes = pickle.dumps(OE)\n",
    "unpickled: HardwareError = pickle.loads(pickled)\n",
    "\n",
    "print(repr(unpickled))\n",
    "print(unpickled.message)\n",
    "print(unpickled.value)\n",
    "\n",
    "\n"
   ]
  },
  {
   "cell_type": "code",
   "execution_count": null,
   "metadata": {},
   "outputs": [],
   "source": []
  }
 ],
 "metadata": {
  "kernelspec": {
   "display_name": "tensorflow",
   "language": "python",
   "name": "python3"
  },
  "language_info": {
   "codemirror_mode": {
    "name": "ipython",
    "version": 3
   },
   "file_extension": ".py",
   "mimetype": "text/x-python",
   "name": "python",
   "nbconvert_exporter": "python",
   "pygments_lexer": "ipython3",
   "version": "3.10.10"
  }
 },
 "nbformat": 4,
 "nbformat_minor": 2
}
