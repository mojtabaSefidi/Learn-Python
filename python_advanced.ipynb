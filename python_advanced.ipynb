{
 "cells": [
  {
   "cell_type": "markdown",
   "metadata": {},
   "source": [
    "### Exceptions"
   ]
  },
  {
   "cell_type": "markdown",
   "metadata": {},
   "source": [
    "##### Custom Exception"
   ]
  },
  {
   "cell_type": "code",
   "execution_count": 8,
   "metadata": {},
   "outputs": [
    {
     "name": "stdout",
     "output_type": "stream",
     "text": [
      "HardwareError('Laptop is too hot')\n",
      "Laptop is too hot\n",
      "101\n"
     ]
    }
   ],
   "source": [
    "from typing import Any\n",
    "import pickle\n",
    "\n",
    "class HardwareError(Exception):\n",
    "  def __init__(self, message: str, value: Any) -> None:\n",
    "    super().__init__(message)\n",
    "    self.message = message\n",
    "    self.value = value\n",
    "\n",
    "  def __str__(self) -> str:\n",
    "    return f'{self.message} (Value: {self.value})'\n",
    "\n",
    "  def __reduce__(self) -> tuple[Any, tuple[str, Any]]:\n",
    "    return self.__class__, (self.message, self.value)\n",
    "     \n",
    "\n",
    "\n",
    "\n",
    "# overheat_exception: HardwareError = HardwareError(message='Your Computer is overheated', value=137)\n",
    "# print(overheat_exception)\n",
    "# print(overheat_exception.message)\n",
    "# print(overheat_exception.value)\n",
    "# print(repr(overheat_exception))\n",
    "\n",
    "\n",
    "# try:\n",
    "#   raise HardwareError(message='Laptop is too hot', value=101)\n",
    "# except HardwareError as error:\n",
    "#   print(error)\n",
    "#   print(error.message)\n",
    "#   print(error.value)\n",
    "\n",
    "OE: HardwareError = HardwareError(message='Laptop is too hot', value=101)\n",
    "pickled: bytes = pickle.dumps(OE)\n",
    "unpickled: HardwareError = pickle.loads(pickled)\n",
    "\n",
    "print(repr(unpickled))\n",
    "print(unpickled.message)\n",
    "print(unpickled.value)\n",
    "\n",
    "\n"
   ]
  },
  {
   "cell_type": "markdown",
   "metadata": {},
   "source": [
    "##### Object Oriented Programming "
   ]
  },
  {
   "cell_type": "code",
   "execution_count": 20,
   "metadata": {},
   "outputs": [
    {
     "name": "stdout",
     "output_type": "stream",
     "text": [
      "Microwave (Smeg) is now turned on.\n",
      "Microwave (Smeg) is already turned on.\n",
      "Running Smeg Microwave for 30 seconds...\n",
      "Microwave (Smeg) is now turned off.\n",
      "Microwave (Smeg) is already turned off.\n",
      "You should turn on the microwave first...\n",
      "Smeg (Rating: B)\n"
     ]
    },
    {
     "data": {
      "text/plain": [
       "Microwave(brand=\"Smeg\", power_rating=\"B)"
      ]
     },
     "execution_count": 20,
     "metadata": {},
     "output_type": "execute_result"
    }
   ],
   "source": [
    "class Microwave:\n",
    "  def __init__(self, brand: str, power_rating: str) -> None:\n",
    "    self.brand = brand\n",
    "    self.power_rating = power_rating \n",
    "    self.turned_on: bool = False\n",
    "\n",
    "  def turn_on(self) -> None:\n",
    "    if self.turned_on:\n",
    "      print(f'Microwave ({self.brand}) is already turned on.')\n",
    "    else:\n",
    "      self.turned_on = True\n",
    "      print(f'Microwave ({self.brand}) is now turned on.')\n",
    "\n",
    "\n",
    "  def turn_off(self) -> None:\n",
    "    if self.turned_on:\n",
    "      self.turned_on = False\n",
    "      print(f'Microwave ({self.brand}) is now turned off.')\n",
    "    else:\n",
    "      print(f'Microwave ({self.brand}) is already turned off.')\n",
    "\n",
    "  def run(self, seconds: int) -> None:\n",
    "    if self.turned_on:\n",
    "      print(f'Running {self.brand} Microwave for {seconds} seconds...')\n",
    "    else:\n",
    "      print('You should turn on the microwave first...')\n",
    "\n",
    "  # @overrided\n",
    "  def __str__(self) -> str:\n",
    "    return f'{self.brand} (Rating: {self.power_rating})'\n",
    "\n",
    "  def __repr__(self) -> str:\n",
    "    return f'Microwave(brand=\"{self.brand}\", power_rating=\"{self. power_rating})'\n",
    "\n",
    "smeg: Microwave = Microwave(brand='Smeg', power_rating='B')\n",
    "# print(smeg) \n",
    "# print(smeg.brand) \n",
    "# print(smeg.power_rating)\n",
    "smeg.turn_on()\n",
    "smeg.turn_on()\n",
    "smeg.run(30)\n",
    "smeg.turn_off()\n",
    "smeg.turn_off()\n",
    "smeg.run(30)\n",
    "\n",
    "print(smeg)\n",
    "smeg\n",
    "\n"
   ]
  },
  {
   "cell_type": "markdown",
   "metadata": {},
   "source": [
    "#### @wraps"
   ]
  },
  {
   "cell_type": "code",
   "execution_count": 19,
   "metadata": {},
   "outputs": [
    {
     "name": "stdout",
     "output_type": "stream",
     "text": [
      "expensive_function\n",
      " This function sleep for k seconds\n",
      "{'sleep_time': <class 'int'>, 'return': None}\n",
      "Done!\n",
      "Ran \"expensive_function\" in  2.00 seconds\n"
     ]
    }
   ],
   "source": [
    "from functools import wraps\n",
    "from typing import Callable, Any \n",
    "import time\n",
    " \n",
    "\n",
    "def get_time(func: Callable) -> Callable:\n",
    "  \n",
    "  @wraps(func)\n",
    "  def wrapper (*args, **kwargs) -> Any:\n",
    "\n",
    "    start_time: float = time.perf_counter()\n",
    "    # print(*args, **kwargs)\n",
    "    result: Any = func(*args, **kwargs)\n",
    "    end_time: float = time.perf_counter()\n",
    "    print(f'Ran \"{func.__name__}\" in {end_time - start_time: .2f} seconds')\n",
    "\n",
    "    return result\n",
    "  \n",
    "  return wrapper\n",
    "\n",
    "\n",
    "@get_time\n",
    "def expensive_function(sleep_time: int) -> None: \n",
    "  ''' This function sleep for k seconds'''\n",
    "  time.sleep (sleep_time)\n",
    "  print( 'Done!')\n",
    "\n",
    "def main() -> None:\n",
    "  print(expensive_function.__name__)\n",
    "  print(expensive_function.__doc__)\n",
    "  print(expensive_function.__annotations__)\n",
    "  expensive_function(sleep_time=2)\n",
    "\n",
    "main()\n",
    "\n"
   ]
  },
  {
   "cell_type": "markdown",
   "metadata": {},
   "source": [
    "##### Enum"
   ]
  },
  {
   "cell_type": "code",
   "execution_count": 23,
   "metadata": {},
   "outputs": [
    {
     "name": "stdout",
     "output_type": "stream",
     "text": [
      "A slick smooth blue car was created!\n"
     ]
    }
   ],
   "source": [
    "from enum import Enum, Flag, auto \n",
    "\n",
    "class Color(Enum):\n",
    "  RED: str = 'R'\n",
    "  GREEN: str = 'G'\n",
    "  BLUE: str = 'B'\n",
    "\n",
    "# print(Color('B'))\n",
    "# print(Color.RED)\n",
    "# print(repr(Color.RED))\n",
    "# print(Color.RED.name) \n",
    "# print(Color.RED.value)\n",
    "\n",
    "\n",
    "def create_car(color: Color) -> None:\n",
    "  match color:\n",
    "    case Color.RED:\n",
    "      print(f'A smoking hot red car was created!')\n",
    "    case Color.BLUE:\n",
    "      print(f'A slick smooth blue car was created!')\n",
    "    case Color.GREEN:\n",
    "      print(f'A calm and gracious green car was created!')\n",
    "    case _: \n",
    "      print(f'We do not have the color {color} in our database.')\n",
    "\n",
    "create_car(color=Color.BLUE)"
   ]
  },
  {
   "cell_type": "code",
   "execution_count": 22,
   "metadata": {},
   "outputs": [
    {
     "name": "stdout",
     "output_type": "stream",
     "text": [
      "Color.YELLOW|GREEN\n",
      "Sorry, your car is not cool.\n",
      "Color.CYAN\n"
     ]
    }
   ],
   "source": [
    "class Color(Flag):\n",
    "  RED: int = 1\n",
    "  GREEN: int = 2\n",
    "  BLUE: int = 4\n",
    "  YELLOW: int = 8\n",
    "  CYAN: int = 9\n",
    "  BLACK: int = 16\n",
    "\n",
    "\n",
    "yellow_and_red: Color = Color.YELLOW | Color.GREEN\n",
    "print(yellow_and_red)\n",
    "\n",
    "cool_colors: Color =  Color.RED | Color.YELLOW | Color.BLACK\n",
    "my_car_color: Color = Color.GREEN   \n",
    "\n",
    "if my_car_color in cool_colors:\n",
    "  print('You have a cool car!')\n",
    "else:\n",
    "  print('Sorry, your car is not cool.')\n",
    "\n",
    "\n",
    "combination: Color = Color.RED | Color.YELLOW\n",
    "print(combination)\n"
   ]
  },
  {
   "cell_type": "code",
   "execution_count": 31,
   "metadata": {},
   "outputs": [
    {
     "name": "stdout",
     "output_type": "stream",
     "text": [
      "1\n",
      "2\n",
      "4\n",
      "8\n",
      "16\n",
      "31\n",
      "True\n"
     ]
    }
   ],
   "source": [
    "class Color (Flag):\n",
    "  RED: int = auto()\n",
    "  GREEN: int = auto()\n",
    "  BLUE: int = auto()\n",
    "  YELLOW: int = auto()\n",
    "  BLACK: int = auto()\n",
    "  ALL: int =  RED | GREEN | BLACK | YELLOW | BLUE\n",
    "\n",
    "\n",
    "print(Color.RED.value)\n",
    "print(Color.GREEN.value)\n",
    "print(Color.BLUE.value)\n",
    "print(Color.YELLOW.value)\n",
    "print(Color.BLACK.value)\n",
    "print(Color.ALL.value)\n",
    "print (Color.RED in Color.ALL)\n",
    "\n"
   ]
  },
  {
   "cell_type": "markdown",
   "metadata": {},
   "source": [
    "##### Yield"
   ]
  },
  {
   "cell_type": "code",
   "execution_count": 16,
   "metadata": {},
   "outputs": [
    {
     "name": "stdout",
     "output_type": "stream",
     "text": [
      "numbers: 0\n",
      "numbers: 1\n",
      "numbers: 2\n",
      "wrapper: first value\n",
      "numbers: 0\n",
      "numbers: 1\n",
      "numbers: 2\n",
      "wrapper: last value\n"
     ]
    }
   ],
   "source": [
    "from collections. abc import Generator, Iterable \n",
    "from typing import Any\n",
    "\n",
    "def numbers(n: int) -> Generator[str, None, None]:\n",
    "  for i in range(n):\n",
    "    yield f'numbers: {i}'\n",
    "\n",
    "\n",
    "number_gen: Generator[str, None, None] = numbers(3)\n",
    "print(next(number_gen))\n",
    "print(next(number_gen))\n",
    "print(next(number_gen))\n",
    "\n",
    "\n",
    "def wrapper(g: Generator) -> Generator[Any, None, None]:\n",
    "  yield 'wrapper: first value' \n",
    "  for element in g: \n",
    "    yield element\n",
    "  yield 'wrapper: last value'\n",
    "\n",
    "\n",
    "gen: Generator[Any, None, None] = wrapper(numbers(3))\n",
    "\n",
    "print(next(gen))\n",
    "print(next(gen))\n",
    "print(next(gen))\n",
    "print(next(gen))\n",
    "print(next(gen))\n",
    " "
   ]
  },
  {
   "cell_type": "code",
   "execution_count": 17,
   "metadata": {},
   "outputs": [
    {
     "name": "stdout",
     "output_type": "stream",
     "text": [
      "wrapper: first value\n",
      "numbers: 0\n",
      "numbers: 1\n",
      "numbers: 2\n",
      "wrapper: last value\n"
     ]
    }
   ],
   "source": [
    "def wrapper(g: Generator) -> Generator[Any, None, None]:\n",
    "  yield 'wrapper: first value' \n",
    "  yield from g\n",
    "  yield 'wrapper: last value'\n",
    "\n",
    "\n",
    "gen: Generator[Any, None, None] = wrapper(numbers(3))\n",
    "\n",
    "print(next(gen))\n",
    "print(next(gen))\n",
    "print(next(gen))\n",
    "print(next(gen))\n",
    "print(next(gen))\n",
    " "
   ]
  },
  {
   "cell_type": "code",
   "execution_count": 13,
   "metadata": {},
   "outputs": [
    {
     "name": "stdout",
     "output_type": "stream",
     "text": [
      "(1, 'A')\n",
      "(2, 'B')\n",
      "(3, 'C')\n",
      "(4, 'D')\n",
      "(5, 'E')\n"
     ]
    }
   ],
   "source": [
    "Enumerator = Generator[tuple[int,Any], None, None]\n",
    "\n",
    "def enumerations (iterable: Iterable) -> Enumerator:\n",
    "  yield from enumerate (iterable, start=1)\n",
    "\n",
    "enumerator: Enumerator = enumerations('ABCDEF')\n",
    "\n",
    "print(next(enumerator))\n",
    "print(next(enumerator))\n",
    "print(next(enumerator))\n",
    "print(next(enumerator))\n",
    "print(next(enumerator))"
   ]
  },
  {
   "cell_type": "code",
   "execution_count": 21,
   "metadata": {},
   "outputs": [
    {
     "name": "stdout",
     "output_type": "stream",
     "text": [
      "A\n",
      "B\n",
      "D\n",
      "E\n",
      "C\n",
      "Task 1 - Step 1\n",
      "Task 1 - Step 2\n",
      "Task 1 - Step 3\n",
      "Task 2 - Step 1\n",
      "Task 2 - Step 2\n",
      "Task 2 - Step 3\n"
     ]
    }
   ],
   "source": [
    "class TreeNode:\n",
    "    def __init__(self, value, children=None):\n",
    "        self.value = value\n",
    "        self.children = children or []\n",
    "\n",
    "def traverse_tree(node):\n",
    "    yield node.value  # Yield the current node's value\n",
    "    for child in node.children:\n",
    "        yield from traverse_tree(child)  # Recursively traverse children\n",
    "\n",
    "# Example Tree:\n",
    "#       A\n",
    "#      / \\\n",
    "#     B   C\n",
    "#    / \\\n",
    "#   D   E\n",
    "root = TreeNode(\"A\", [\n",
    "    TreeNode(\"B\", [TreeNode(\"D\"), TreeNode(\"E\")]),\n",
    "    TreeNode(\"C\")\n",
    "])\n",
    "\n",
    "# Usage:\n",
    "for value in traverse_tree(root):\n",
    "    print(value)\n",
    "\n",
    "\n",
    "\n",
    "import time\n",
    "\n",
    "def task1():\n",
    "    for i in range(1,4):\n",
    "        print(f\"Task 1 - Step {i}\")\n",
    "        yield  # Pause here\n",
    "\n",
    "def task2():\n",
    "    for i in range(1,4):\n",
    "        print(f\"Task 2 - Step {i}\")\n",
    "        yield  # Pause here\n",
    "\n",
    "def scheduler(*tasks):\n",
    "    for task in tasks:\n",
    "        yield from task  # Delegate control to each task in sequence\n",
    "\n",
    "# Usage:\n",
    "for _ in scheduler(task1(), task2()):\n",
    "    time.sleep(0.5)  # Simulate task switching"
   ]
  },
  {
   "cell_type": "code",
   "execution_count": null,
   "metadata": {},
   "outputs": [],
   "source": []
  }
 ],
 "metadata": {
  "kernelspec": {
   "display_name": "tensorflow",
   "language": "python",
   "name": "python3"
  },
  "language_info": {
   "codemirror_mode": {
    "name": "ipython",
    "version": 3
   },
   "file_extension": ".py",
   "mimetype": "text/x-python",
   "name": "python",
   "nbconvert_exporter": "python",
   "pygments_lexer": "ipython3",
   "version": "3.10.10"
  }
 },
 "nbformat": 4,
 "nbformat_minor": 2
}
